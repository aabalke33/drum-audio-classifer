{
 "cells": [
  {
   "cell_type": "markdown",
   "id": "d68e3baa",
   "metadata": {},
   "source": [
    "# <font color='12284A' style=\"font-family: andale mono, monospace; font-size: 28px; text-transform: uppercase\">Drum Audio Sample Classifier<font><a class='anchor' id='top'></a>.\n"
   ]
  },
  {
   "cell_type": "code",
   "execution_count": 53,
   "id": "0a81a271",
   "metadata": {},
   "outputs": [],
   "source": [
    "#Imports modules\n",
    "import matplotlib.pyplot as plt\n",
    "import pandas as pd\n",
    "import numpy as np\n",
    "import tensorflow as tf\n",
    "import librosa\n",
    "from IPython.display import Audio\n",
    "import warnings\n",
    "warnings.filterwarnings(\"ignore\")\n",
    "\n",
    "# Loads Deep Learning Model\n",
    "model = tf.keras.models.load_model('saved_model\\model_20230607_01')\n",
    "\n",
    "model.compile(optimizer='adam',\n",
    "              loss=tf.keras.losses.SparseCategoricalCrossentropy(from_logits=False),\n",
    "              metrics=['accuracy'])\n",
    "\n",
    "# Creates Function to convert file location\n",
    "def sample_preparer(location):\n",
    "    \n",
    "    # Creates Empty Numpy Array the size required to fit into the model\n",
    "    # Loads the Audio File, converts it to a melspectogram, and fits it into Numpy Array\n",
    "    sample_data = []\n",
    "    sample = np.zeros((128, 1000, 3))\n",
    "    y, sr = librosa.load(location,sr=22050)\n",
    "    y, _ = librosa.effects.trim(y, top_db=50)\n",
    "    y = librosa.resample(y=y, orig_sr=sr, target_sr=22050)\n",
    "    melspect = librosa.feature.melspectrogram(y=y)    \n",
    "\n",
    "    for i, _ in enumerate(melspect): #128\n",
    "        for j, _ in enumerate(melspect[i]): #LENGTH\n",
    "            sample[i][j] = melspect[i][j]\n",
    "\n",
    "    sample_data = [sample]\n",
    "    \n",
    "    return sample_data"
   ]
  },
  {
   "cell_type": "markdown",
   "id": "87c276dd",
   "metadata": {},
   "source": [
    "After running the previous code block, please run the following and provide a input file path. "
   ]
  },
  {
   "cell_type": "code",
   "execution_count": 94,
   "id": "600ecc40",
   "metadata": {},
   "outputs": [
    {
     "name": "stdout",
     "output_type": "stream",
     "text": [
      "Input Audio File Path: \"C:\\Users\\Aaron\\repos_edu\\wgu\\c964\\product\\dataset\\samples_reserved\\input_snare.wav\"\n"
     ]
    },
    {
     "data": {
      "text/html": [
       "\n",
       "                <audio  controls=\"controls\" >\n",
       "                    <source src=\"data:audio/wav;base64,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\" type=\"audio/wav\" />\n",
       "                    Your browser does not support the audio element.\n",
       "                </audio>\n",
       "              "
      ],
      "text/plain": [
       "<IPython.lib.display.Audio object>"
      ]
     },
     "execution_count": 94,
     "metadata": {},
     "output_type": "execute_result"
    }
   ],
   "source": [
    "# Asks for User to Input File Path to audio file needing classification\n",
    "\n",
    "location = input(\"Input Audio File Path: \")\n",
    "\n",
    "# Removes quotes around filepath if they exist\n",
    "location = location.strip('\\\"')\n",
    "\n",
    "y, sr = librosa.load(location)\n",
    "\n",
    "Audio(data=y, rate=sr)"
   ]
  },
  {
   "cell_type": "code",
   "execution_count": 95,
   "id": "8968092c",
   "metadata": {},
   "outputs": [
    {
     "name": "stdout",
     "output_type": "stream",
     "text": [
      "1/1 [==============================] - 0s 40ms/step\n",
      "\n",
      "Drum Sample is: Snare\n"
     ]
    }
   ],
   "source": [
    "# Audio file is fed into the model, and a prediction for classification is returned\n",
    "prediction = model.predict(np.array(sample_preparer(location))) \n",
    "\n",
    "# Unneeded data is removed, only the highest predicted result is required\n",
    "type_num = np.argmax(prediction,axis=1)\n",
    "\n",
    "drum_types = ['Clap', 'Closed Hat', 'Kick', 'Open Hat', 'Snare']\n",
    "\n",
    "# Numeric Drum Classification is converted to String name of drum and outputted.\n",
    "print(f\"\\nDrum Sample is: {drum_types[int(type_num)]}\")"
   ]
  }
 ],
 "metadata": {
  "kernelspec": {
   "display_name": "Python 3 (ipykernel)",
   "language": "python",
   "name": "python3"
  },
  "language_info": {
   "codemirror_mode": {
    "name": "ipython",
    "version": 3
   },
   "file_extension": ".py",
   "mimetype": "text/x-python",
   "name": "python",
   "nbconvert_exporter": "python",
   "pygments_lexer": "ipython3",
   "version": "3.10.9"
  }
 },
 "nbformat": 4,
 "nbformat_minor": 5
}
